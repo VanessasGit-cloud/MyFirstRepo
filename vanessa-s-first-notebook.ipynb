{
 "cells": [
  {
   "cell_type": "code",
   "execution_count": 1,
   "id": "8642087c",
   "metadata": {
    "_cell_guid": "b1076dfc-b9ad-4769-8c92-a6c4dae69d19",
    "_uuid": "8f2839f25d086af736a60e9eeb907d3b93b6e0e5",
    "execution": {
     "iopub.execute_input": "2025-03-19T05:42:00.820076Z",
     "iopub.status.busy": "2025-03-19T05:42:00.819693Z",
     "iopub.status.idle": "2025-03-19T05:42:00.826017Z",
     "shell.execute_reply": "2025-03-19T05:42:00.824702Z"
    },
    "papermill": {
     "duration": 0.011658,
     "end_time": "2025-03-19T05:42:00.827930",
     "exception": false,
     "start_time": "2025-03-19T05:42:00.816272",
     "status": "completed"
    },
    "tags": []
   },
   "outputs": [],
   "source": [
    "#This my first notebook!"
   ]
  },
  {
   "cell_type": "code",
   "execution_count": 2,
   "id": "cd745c91",
   "metadata": {
    "execution": {
     "iopub.execute_input": "2025-03-19T05:42:00.833149Z",
     "iopub.status.busy": "2025-03-19T05:42:00.832754Z",
     "iopub.status.idle": "2025-03-19T05:42:00.839385Z",
     "shell.execute_reply": "2025-03-19T05:42:00.838199Z"
    },
    "papermill": {
     "duration": 0.011302,
     "end_time": "2025-03-19T05:42:00.841341",
     "exception": false,
     "start_time": "2025-03-19T05:42:00.830039",
     "status": "completed"
    },
    "tags": []
   },
   "outputs": [
    {
     "data": {
      "text/plain": [
       "4"
      ]
     },
     "execution_count": 2,
     "metadata": {},
     "output_type": "execute_result"
    }
   ],
   "source": [
    "2+2"
   ]
  }
 ],
 "metadata": {
  "kaggle": {
   "accelerator": "none",
   "dataSources": [],
   "dockerImageVersionId": 30918,
   "isGpuEnabled": false,
   "isInternetEnabled": false,
   "language": "python",
   "sourceType": "notebook"
  },
  "kernelspec": {
   "display_name": "Python 3",
   "language": "python",
   "name": "python3"
  },
  "language_info": {
   "codemirror_mode": {
    "name": "ipython",
    "version": 3
   },
   "file_extension": ".py",
   "mimetype": "text/x-python",
   "name": "python",
   "nbconvert_exporter": "python",
   "pygments_lexer": "ipython3",
   "version": "3.10.12"
  },
  "papermill": {
   "default_parameters": {},
   "duration": 3.699659,
   "end_time": "2025-03-19T05:42:01.364715",
   "environment_variables": {},
   "exception": null,
   "input_path": "__notebook__.ipynb",
   "output_path": "__notebook__.ipynb",
   "parameters": {},
   "start_time": "2025-03-19T05:41:57.665056",
   "version": "2.6.0"
  }
 },
 "nbformat": 4,
 "nbformat_minor": 5
}
